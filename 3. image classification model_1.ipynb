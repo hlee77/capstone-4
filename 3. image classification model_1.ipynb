{
 "cells": [
  {
   "cell_type": "code",
   "execution_count": 27,
   "id": "d972ac0f",
   "metadata": {},
   "outputs": [],
   "source": [
    "import os\n",
    "import PIL\n",
    "import shutil\n",
    "import pathlib\n",
    "import numpy as np\n",
    "import matplotlib.pyplot as plt\n",
    "\n",
    "import tensorflow as tf\n",
    "from tensorflow import keras\n",
    "from tensorflow.keras import layers\n",
    "from tensorflow.keras.models import Sequential, save_model"
   ]
  },
  {
   "cell_type": "code",
   "execution_count": 28,
   "id": "24742714",
   "metadata": {},
   "outputs": [],
   "source": [
    "directory = r\"image_15/\""
   ]
  },
  {
   "cell_type": "code",
   "execution_count": 29,
   "id": "3de38535",
   "metadata": {},
   "outputs": [
    {
     "name": "stdout",
     "output_type": "stream",
     "text": [
      "Found 13360 files belonging to 15 classes.\n"
     ]
    },
    {
     "data": {
      "text/plain": [
       "<_BatchDataset element_spec=(TensorSpec(shape=(None, 150, 150, 3), dtype=tf.float32, name=None), TensorSpec(shape=(None,), dtype=tf.int32, name=None))>"
      ]
     },
     "execution_count": 29,
     "metadata": {},
     "output_type": "execute_result"
    }
   ],
   "source": [
    "tf.keras.preprocessing.image_dataset_from_directory(\n",
    "    directory = r\"image_15/\",\n",
    "    labels=\"inferred\",\n",
    "    label_mode=\"int\",\n",
    "    class_names=None,\n",
    "    color_mode=\"rgb\",\n",
    "    batch_size=32,\n",
    "    image_size=(150, 150),\n",
    "    shuffle=True,\n",
    "    seed=None,\n",
    "    validation_split=None,\n",
    "    subset=None,\n",
    "    interpolation=\"bilinear\",\n",
    "    follow_links=False,\n",
    "    crop_to_aspect_ratio=False\n",
    ")"
   ]
  },
  {
   "cell_type": "code",
   "execution_count": 30,
   "id": "67c04070",
   "metadata": {},
   "outputs": [],
   "source": [
    "batchsize = 32\n",
    "img_height = 150\n",
    "img_width = 150"
   ]
  },
  {
   "cell_type": "code",
   "execution_count": 31,
   "id": "e11c36ed",
   "metadata": {},
   "outputs": [
    {
     "name": "stdout",
     "output_type": "stream",
     "text": [
      "Found 13360 files belonging to 15 classes.\n",
      "Using 8952 files for training.\n"
     ]
    }
   ],
   "source": [
    "train_ds = tf.keras.utils.image_dataset_from_directory(\n",
    "  directory = r\"image_15/\",\n",
    "  validation_split=0.33,\n",
    "  subset=\"training\",\n",
    "  seed=77,\n",
    "  image_size=(img_height, img_width),\n",
    "  batch_size= batchsize)"
   ]
  },
  {
   "cell_type": "code",
   "execution_count": 32,
   "id": "ad373404",
   "metadata": {},
   "outputs": [
    {
     "name": "stdout",
     "output_type": "stream",
     "text": [
      "Found 13360 files belonging to 15 classes.\n",
      "Using 4408 files for validation.\n"
     ]
    }
   ],
   "source": [
    "val_ds = tf.keras.preprocessing.image_dataset_from_directory(\n",
    "  directory = r\"image_15/\",\n",
    "  validation_split = 0.33,\n",
    "  subset = \"validation\",\n",
    "  seed = 77,\n",
    "  image_size = (img_height, img_width),\n",
    "  batch_size = batchsize)"
   ]
  },
  {
   "cell_type": "code",
   "execution_count": 33,
   "id": "8d75d257",
   "metadata": {},
   "outputs": [
    {
     "name": "stdout",
     "output_type": "stream",
     "text": [
      "Class Names : ['Apparel_Accessories', 'Arts_Entertainment', 'Baby_Toddler', 'Business_Industrial', 'Cameras_Optics', 'Cell Phones', 'Computers_Tablets', 'Consumer Electronics', 'Health_Beauty', 'Home_Garden', 'Jewelry_Watches', 'Pet Supplies', 'Sporting Goods', 'Toys_Games', 'Vehicles']\n"
     ]
    }
   ],
   "source": [
    "class_names = train_ds.class_names\n",
    "print(\"Class Names :\", class_names)"
   ]
  },
  {
   "cell_type": "code",
   "execution_count": 34,
   "id": "4ec5f2e1",
   "metadata": {},
   "outputs": [],
   "source": [
    "train_ds = train_ds.cache().shuffle(1000)\n",
    "val_ds = val_ds.cache()"
   ]
  },
  {
   "cell_type": "code",
   "execution_count": 35,
   "id": "ccf48b44",
   "metadata": {},
   "outputs": [
    {
     "data": {
      "text/plain": [
       "15"
      ]
     },
     "execution_count": 35,
     "metadata": {},
     "output_type": "execute_result"
    }
   ],
   "source": [
    "num_classes = len(class_names)\n",
    "num_classes"
   ]
  },
  {
   "cell_type": "code",
   "execution_count": 36,
   "id": "91ad93a3",
   "metadata": {},
   "outputs": [],
   "source": [
    "model = Sequential([\n",
    "  layers.experimental.preprocessing.Rescaling(1./255, input_shape=(img_height, img_width, 3)),\n",
    "  layers.Conv2D(16, 3, padding='same', activation='relu'),\n",
    "  layers.MaxPooling2D(),\n",
    "  layers.Conv2D(32, 3, padding='same', activation='relu'),\n",
    "  layers.MaxPooling2D(),\n",
    "  layers.Conv2D(64, 3, padding='same', activation='relu'),\n",
    "  layers.MaxPooling2D(),\n",
    "  layers.Flatten(),\n",
    "  layers.Dense(128, activation='relu'),\n",
    "  layers.Dense(num_classes)\n",
    "])"
   ]
  },
  {
   "cell_type": "code",
   "execution_count": 37,
   "id": "2ec571f9",
   "metadata": {},
   "outputs": [],
   "source": [
    "model.compile(optimizer='adam',\n",
    "              loss=tf.keras.losses.SparseCategoricalCrossentropy(from_logits=True),\n",
    "              metrics=['accuracy'])"
   ]
  },
  {
   "cell_type": "code",
   "execution_count": 38,
   "id": "985be68a",
   "metadata": {},
   "outputs": [
    {
     "name": "stdout",
     "output_type": "stream",
     "text": [
      "Model: \"sequential_1\"\n",
      "_________________________________________________________________\n",
      " Layer (type)                Output Shape              Param #   \n",
      "=================================================================\n",
      " rescaling_1 (Rescaling)     (None, 150, 150, 3)       0         \n",
      "                                                                 \n",
      " conv2d_3 (Conv2D)           (None, 150, 150, 16)      448       \n",
      "                                                                 \n",
      " max_pooling2d_3 (MaxPooling  (None, 75, 75, 16)       0         \n",
      " 2D)                                                             \n",
      "                                                                 \n",
      " conv2d_4 (Conv2D)           (None, 75, 75, 32)        4640      \n",
      "                                                                 \n",
      " max_pooling2d_4 (MaxPooling  (None, 37, 37, 32)       0         \n",
      " 2D)                                                             \n",
      "                                                                 \n",
      " conv2d_5 (Conv2D)           (None, 37, 37, 64)        18496     \n",
      "                                                                 \n",
      " max_pooling2d_5 (MaxPooling  (None, 18, 18, 64)       0         \n",
      " 2D)                                                             \n",
      "                                                                 \n",
      " flatten_1 (Flatten)         (None, 20736)             0         \n",
      "                                                                 \n",
      " dense_2 (Dense)             (None, 128)               2654336   \n",
      "                                                                 \n",
      " dense_3 (Dense)             (None, 15)                1935      \n",
      "                                                                 \n",
      "=================================================================\n",
      "Total params: 2,679,855\n",
      "Trainable params: 2,679,855\n",
      "Non-trainable params: 0\n",
      "_________________________________________________________________\n",
      "None\n"
     ]
    }
   ],
   "source": [
    "print(model.summary())"
   ]
  },
  {
   "cell_type": "code",
   "execution_count": 40,
   "id": "0b4c468c",
   "metadata": {},
   "outputs": [
    {
     "name": "stdout",
     "output_type": "stream",
     "text": [
      "Epoch 1/20\n",
      "280/280 [==============================] - 113s 406ms/step - loss: 2.4840 - accuracy: 0.1769 - val_loss: 2.3776 - val_accuracy: 0.2225\n",
      "Epoch 2/20\n",
      "280/280 [==============================] - 119s 423ms/step - loss: 2.2449 - accuracy: 0.2755 - val_loss: 2.2726 - val_accuracy: 0.2602\n",
      "Epoch 3/20\n",
      "280/280 [==============================] - 125s 449ms/step - loss: 1.9931 - accuracy: 0.3606 - val_loss: 2.2625 - val_accuracy: 0.2790\n",
      "Epoch 4/20\n",
      "280/280 [==============================] - 140s 499ms/step - loss: 1.5996 - accuracy: 0.4894 - val_loss: 2.3408 - val_accuracy: 0.3092\n",
      "Epoch 5/20\n",
      "280/280 [==============================] - 154s 548ms/step - loss: 1.0807 - accuracy: 0.6537 - val_loss: 2.7470 - val_accuracy: 0.3008\n",
      "Epoch 6/20\n",
      "280/280 [==============================] - 1003s 4s/step - loss: 0.6034 - accuracy: 0.8136 - val_loss: 3.5610 - val_accuracy: 0.2974\n",
      "Epoch 7/20\n",
      "280/280 [==============================] - 113s 405ms/step - loss: 0.2923 - accuracy: 0.9128 - val_loss: 4.6085 - val_accuracy: 0.3051\n",
      "Epoch 8/20\n",
      "280/280 [==============================] - 137s 490ms/step - loss: 0.1663 - accuracy: 0.9536 - val_loss: 5.4766 - val_accuracy: 0.3020\n",
      "Epoch 9/20\n",
      "280/280 [==============================] - 150s 535ms/step - loss: 0.1147 - accuracy: 0.9693 - val_loss: 6.7376 - val_accuracy: 0.2995\n",
      "Epoch 10/20\n",
      "280/280 [==============================] - 241s 862ms/step - loss: 0.1117 - accuracy: 0.9666 - val_loss: 7.0331 - val_accuracy: 0.3038\n",
      "Epoch 11/20\n",
      "280/280 [==============================] - 198s 708ms/step - loss: 0.0977 - accuracy: 0.9733 - val_loss: 6.9416 - val_accuracy: 0.2936\n",
      "Epoch 12/20\n",
      "280/280 [==============================] - 128s 459ms/step - loss: 0.0771 - accuracy: 0.9773 - val_loss: 7.7350 - val_accuracy: 0.2890\n",
      "Epoch 13/20\n",
      "280/280 [==============================] - 151s 538ms/step - loss: 0.0647 - accuracy: 0.9839 - val_loss: 8.6709 - val_accuracy: 0.3001\n",
      "Epoch 14/20\n",
      "280/280 [==============================] - 224s 800ms/step - loss: 0.0593 - accuracy: 0.9820 - val_loss: 8.4003 - val_accuracy: 0.2931\n",
      "Epoch 15/20\n",
      "280/280 [==============================] - 202s 722ms/step - loss: 0.0383 - accuracy: 0.9894 - val_loss: 9.0269 - val_accuracy: 0.2985\n",
      "Epoch 16/20\n",
      "280/280 [==============================] - 156s 555ms/step - loss: 0.0513 - accuracy: 0.9846 - val_loss: 8.2978 - val_accuracy: 0.2856\n",
      "Epoch 17/20\n",
      "280/280 [==============================] - 125s 447ms/step - loss: 0.0782 - accuracy: 0.9769 - val_loss: 8.8307 - val_accuracy: 0.2929\n",
      "Epoch 18/20\n",
      "280/280 [==============================] - 132s 472ms/step - loss: 0.0667 - accuracy: 0.9801 - val_loss: 8.5485 - val_accuracy: 0.2926\n",
      "Epoch 19/20\n",
      "280/280 [==============================] - 159s 568ms/step - loss: 0.0498 - accuracy: 0.9855 - val_loss: 8.7899 - val_accuracy: 0.2911\n",
      "Epoch 20/20\n",
      "280/280 [==============================] - 206s 736ms/step - loss: 0.0119 - accuracy: 0.9977 - val_loss: 9.9992 - val_accuracy: 0.2945\n"
     ]
    }
   ],
   "source": [
    "epochs=20\n",
    "history = model.fit(\n",
    "  train_ds,\n",
    "  validation_data=val_ds,\n",
    "  epochs=epochs\n",
    ")"
   ]
  },
  {
   "cell_type": "code",
   "execution_count": 41,
   "id": "6726eeb1",
   "metadata": {},
   "outputs": [],
   "source": [
    "acc = history.history['accuracy']\n",
    "val_acc = history.history['val_accuracy']"
   ]
  },
  {
   "cell_type": "code",
   "execution_count": 42,
   "id": "77f93cfd",
   "metadata": {},
   "outputs": [],
   "source": [
    "loss = history.history['loss']\n",
    "val_loss = history.history['val_loss']"
   ]
  },
  {
   "cell_type": "code",
   "execution_count": 43,
   "id": "a35fa6d4",
   "metadata": {},
   "outputs": [],
   "source": [
    "epochs_range = range(epochs)"
   ]
  },
  {
   "cell_type": "code",
   "execution_count": 44,
   "id": "aeda38f9",
   "metadata": {},
   "outputs": [
    {
     "data": {
      "text/plain": [
       "Text(0.5, 1.0, 'Training and Validation Accuracy')"
      ]
     },
     "execution_count": 44,
     "metadata": {},
     "output_type": "execute_result"
    },
    {
     "data": {
      "image/png": "[encoded data removed]",
      "text/plain": [
       "<Figure size 800x800 with 1 Axes>"
      ]
     },
     "metadata": {},
     "output_type": "display_data"
    }
   ],
   "source": [
    "plt.figure(figsize=(8, 8))\n",
    "plt.subplot(1, 2, 1)\n",
    "plt.plot(epochs_range, acc, label='Training Accuracy')\n",
    "plt.plot(epochs_range, val_acc, label='Validation Accuracy')\n",
    "plt.legend(loc='lower right')\n",
    "plt.title('Training and Validation Accuracy')"
   ]
  },
  {
   "cell_type": "code",
   "execution_count": 45,
   "id": "954ec207",
   "metadata": {},
   "outputs": [
    {
     "data": {
      "image/png": "[encoded data removed]",
      "text/plain": [
       "<Figure size 640x480 with 1 Axes>"
      ]
     },
     "metadata": {},
     "output_type": "display_data"
    }
   ],
   "source": [
    "plt.subplot(1, 2, 2)\n",
    "plt.plot(epochs_range, loss, label='Training Loss')\n",
    "plt.plot(epochs_range, val_loss, label='Validation Loss')\n",
    "plt.legend(loc='upper right')\n",
    "plt.title('Training and Validation Loss')\n",
    "plt.show()"
   ]
  },
  {
   "cell_type": "code",
   "execution_count": 46,
   "id": "eb2a22ed",
   "metadata": {},
   "outputs": [
    {
     "name": "stdout",
     "output_type": "stream",
     "text": [
      "138/138 [==============================] - 29s 202ms/step\n"
     ]
    }
   ],
   "source": [
    "y_pred = model.predict(val_ds)"
   ]
  },
  {
   "cell_type": "code",
   "execution_count": 47,
   "id": "bb4367f6",
   "metadata": {
    "scrolled": true
   },
   "outputs": [
    {
     "name": "stdout",
     "output_type": "stream",
     "text": [
      "138/138 [==============================] - 10s 73ms/step\n"
     ]
    },
    {
     "data": {
      "text/plain": [
       "array([[  4.46063   ,   5.831933  , -11.879838  , ..., -19.07715   ,\n",
       "         16.645441  ,  -2.1794164 ],\n",
       "       [-18.752504  ,  13.719332  , -14.838316  , ...,   6.554145  ,\n",
       "         -5.471306  ,  24.04824   ],\n",
       "       [-21.721786  ,  24.12298   ,  -3.1599443 , ...,  -4.16935   ,\n",
       "         -8.630494  , -12.62582   ],\n",
       "       ...,\n",
       "       [-17.037207  ,  19.88473   , -16.646933  , ...,  -0.98456603,\n",
       "         11.586776  ,  -3.546992  ],\n",
       "       [  3.5877566 ,   7.079986  ,   1.3317782 , ...,  -1.8099666 ,\n",
       "         -1.243189  , -12.019981  ],\n",
       "       [ -5.9211206 ,   7.126282  ,  -4.5479503 , ...,  11.679771  ,\n",
       "          7.59222   ,  15.935549  ]], dtype=float32)"
      ]
     },
     "execution_count": 47,
     "metadata": {},
     "output_type": "execute_result"
    }
   ],
   "source": [
    "model.predict(val_ds)"
   ]
  },
  {
   "cell_type": "code",
   "execution_count": 48,
   "id": "7ad13b90",
   "metadata": {
    "scrolled": true
   },
   "outputs": [
    {
     "data": {
      "text/plain": [
       "4.46063"
      ]
     },
     "execution_count": 48,
     "metadata": {},
     "output_type": "execute_result"
    }
   ],
   "source": [
    "y_pred[0][0]"
   ]
  },
  {
   "cell_type": "code",
   "execution_count": 49,
   "id": "0c36e326",
   "metadata": {},
   "outputs": [
    {
     "data": {
      "text/plain": [
       "array([  4.46063  ,   5.831933 , -11.879838 ,   1.3950425, -17.279276 ,\n",
       "       -26.158384 ,   3.898607 ,  17.4025   ,   4.120799 ,   8.455591 ,\n",
       "       -11.741118 ,   4.604651 , -19.07715  ,  16.645441 ,  -2.1794164],\n",
       "      dtype=float32)"
      ]
     },
     "execution_count": 49,
     "metadata": {},
     "output_type": "execute_result"
    }
   ],
   "source": [
    "y_pred[0]"
   ]
  },
  {
   "cell_type": "code",
   "execution_count": 50,
   "id": "13d4a277",
   "metadata": {},
   "outputs": [],
   "source": [
    "save_model(model, 'image_modelfl.h5')"
   ]
  },
  {
   "cell_type": "code",
   "execution_count": 51,
   "id": "efa4cb90",
   "metadata": {},
   "outputs": [],
   "source": [
    "model.save(\"image_modelfl15.hdf5\")"
   ]
  }
 ],
 "metadata": {
  "kernelspec": {
   "display_name": "Python 3 (ipykernel)",
   "language": "python",
   "name": "python3"
  },
  "language_info": {
   "codemirror_mode": {
    "name": "ipython",
    "version": 3
   },
   "file_extension": ".py",
   "mimetype": "text/x-python",
   "name": "python",
   "nbconvert_exporter": "python",
   "pygments_lexer": "ipython3",
   "version": "3.10.9"
  }
 },
 "nbformat": 4,
 "nbformat_minor": 5
}
